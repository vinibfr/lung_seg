version https://git-lfs.github.com/spec/v1
oid sha256:b39dcca950e2af22b98e7a139dcf84204e111ea0bbc7673c42adfce09c36d602
size 62817
