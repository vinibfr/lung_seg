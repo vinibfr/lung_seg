version https://git-lfs.github.com/spec/v1
oid sha256:8bff96a949b2b67fe1692ae40df76e98dab7340ee5a83ba595970b4281df0043
size 376761
