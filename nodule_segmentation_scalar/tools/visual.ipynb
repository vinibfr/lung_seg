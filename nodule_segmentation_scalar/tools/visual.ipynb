{
 "cells": [
  {
   "cell_type": "code",
   "execution_count": 2,
   "metadata": {},
   "outputs": [],
   "source": [
    "import torch\n",
    "from torchvision import transforms\n",
    "from PIL import Image\n",
    "import matplotlib.pyplot as plt"
   ]
  },
  {
   "cell_type": "code",
   "execution_count": 9,
   "metadata": {},
   "outputs": [],
   "source": [
    "image_path = 'E:/data/Mask/0001_MA000_slice000.png'\n",
    "image = Image.open(image_path)\n",
    "\n"
   ]
  },
  {
   "cell_type": "code",
   "execution_count": 10,
   "metadata": {},
   "outputs": [
    {
     "name": "stdout",
     "output_type": "stream",
     "text": [
      "Number of channels: 3\n"
     ]
    }
   ],
   "source": [
    "# Define a transformation to convert the PIL Image to a PyTorch tensor\n",
    "transform = transforms.ToTensor()\n",
    "\n",
    "# Apply the transformation to get a tensor\n",
    "image_tensor = transform(image)\n",
    "\n",
    "# Check the size of the tensor to get the number of channels\n",
    "num_channels = image_tensor.size(0)\n",
    "\n",
    "print(f\"Number of channels: {num_channels}\")"
   ]
  },
  {
   "cell_type": "code",
   "execution_count": 11,
   "metadata": {},
   "outputs": [
    {
     "data": {
      "image/png": "[encoded data removed]",
      "text/plain": [
       "<Figure size 640x480 with 3 Axes>"
      ]
     },
     "metadata": {},
     "output_type": "display_data"
    }
   ],
   "source": [
    "# Display each channel separately\n",
    "for i in range(image_tensor.size(0)):\n",
    "    plt.subplot(1, image_tensor.size(0), i + 1)\n",
    "    plt.imshow(image_tensor[i], cmap='gray')  # Assuming each channel is grayscale\n",
    "    plt.title(f'Channel {i + 1}')\n",
    "    plt.axis('off')\n",
    "\n",
    "plt.show()"
   ]
  }
 ],
 "metadata": {
  "kernelspec": {
   "display_name": "Python 3",
   "language": "python",
   "name": "python3"
  },
  "language_info": {
   "codemirror_mode": {
    "name": "ipython",
    "version": 3
   },
   "file_extension": ".py",
   "mimetype": "text/x-python",
   "name": "python",
   "nbconvert_exporter": "python",
   "pygments_lexer": "ipython3",
   "version": "3.11.3"
  }
 },
 "nbformat": 4,
 "nbformat_minor": 2
}
