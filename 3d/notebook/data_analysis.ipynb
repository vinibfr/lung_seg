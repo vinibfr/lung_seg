version https://git-lfs.github.com/spec/v1
oid sha256:327440740e79e92504000610afbc69d19f7e6db6cb7cadaa0029cde87abc9e6d
size 399951
