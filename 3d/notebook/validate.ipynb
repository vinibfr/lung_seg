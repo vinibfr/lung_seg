version https://git-lfs.github.com/spec/v1
oid sha256:1ddc6a228d6ce1253950d76190e7b2dde8604896fac35e203ba88cf8ac213bc1
size 4166002
