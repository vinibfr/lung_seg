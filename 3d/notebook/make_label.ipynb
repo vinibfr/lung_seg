version https://git-lfs.github.com/spec/v1
oid sha256:3c3e2c93db24eaef091853c56bba09fc1916c9b7171c6a1befb15047b2b51763
size 27285
